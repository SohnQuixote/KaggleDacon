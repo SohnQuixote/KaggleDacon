{
 "cells": [
  {
   "cell_type": "code",
   "execution_count": 1,
   "metadata": {
    "colab": {
     "base_uri": "https://localhost:8080/"
    },
    "executionInfo": {
     "elapsed": 22465,
     "status": "ok",
     "timestamp": 1627969741853,
     "user": {
      "displayName": "손수민",
      "photoUrl": "https://lh3.googleusercontent.com/a-/AOh14GiZXBJ-kvOEILBGlPj98ROrrfIrnDf2W6zadN8_wQ=s64",
      "userId": "12227730564594143159"
     },
     "user_tz": -540
    },
    "id": "fJidSyGofBp0",
    "outputId": "5eb768c0-bca6-4970-a24f-165d0fd8c32d"
   },
   "outputs": [
    {
     "name": "stdout",
     "output_type": "stream",
     "text": [
      "Mounted at /content/drive/\n"
     ]
    }
   ],
   "source": [
    "from google.colab import files\n",
    "from google.colab import drive\n",
    "drive.mount('/content/drive/')"
   ]
  },
  {
   "cell_type": "code",
   "execution_count": 2,
   "metadata": {
    "colab": {
     "base_uri": "https://localhost:8080/"
    },
    "executionInfo": {
     "elapsed": 6570,
     "status": "ok",
     "timestamp": 1627969750607,
     "user": {
      "displayName": "손수민",
      "photoUrl": "https://lh3.googleusercontent.com/a-/AOh14GiZXBJ-kvOEILBGlPj98ROrrfIrnDf2W6zadN8_wQ=s64",
      "userId": "12227730564594143159"
     },
     "user_tz": -540
    },
    "id": "-89qo4fDfWZT",
    "outputId": "8f854e86-8fa5-4623-bc48-dd21cebbe035"
   },
   "outputs": [
    {
     "name": "stdout",
     "output_type": "stream",
     "text": [
      "Collecting transformers\n",
      "  Downloading transformers-4.9.1-py3-none-any.whl (2.6 MB)\n",
      "\u001b[K     |████████████████████████████████| 2.6 MB 6.9 MB/s \n",
      "\u001b[?25hRequirement already satisfied: tqdm>=4.27 in /usr/local/lib/python3.7/dist-packages (from transformers) (4.41.1)\n",
      "Requirement already satisfied: importlib-metadata in /usr/local/lib/python3.7/dist-packages (from transformers) (4.6.1)\n",
      "Requirement already satisfied: packaging in /usr/local/lib/python3.7/dist-packages (from transformers) (21.0)\n",
      "Requirement already satisfied: filelock in /usr/local/lib/python3.7/dist-packages (from transformers) (3.0.12)\n",
      "Requirement already satisfied: regex!=2019.12.17 in /usr/local/lib/python3.7/dist-packages (from transformers) (2019.12.20)\n",
      "Requirement already satisfied: numpy>=1.17 in /usr/local/lib/python3.7/dist-packages (from transformers) (1.19.5)\n",
      "Requirement already satisfied: requests in /usr/local/lib/python3.7/dist-packages (from transformers) (2.23.0)\n",
      "Collecting pyyaml>=5.1\n",
      "  Downloading PyYAML-5.4.1-cp37-cp37m-manylinux1_x86_64.whl (636 kB)\n",
      "\u001b[K     |████████████████████████████████| 636 kB 53.0 MB/s \n",
      "\u001b[?25hCollecting sacremoses\n",
      "  Downloading sacremoses-0.0.45-py3-none-any.whl (895 kB)\n",
      "\u001b[K     |████████████████████████████████| 895 kB 55.9 MB/s \n",
      "\u001b[?25hCollecting tokenizers<0.11,>=0.10.1\n",
      "  Downloading tokenizers-0.10.3-cp37-cp37m-manylinux_2_5_x86_64.manylinux1_x86_64.manylinux_2_12_x86_64.manylinux2010_x86_64.whl (3.3 MB)\n",
      "\u001b[K     |████████████████████████████████| 3.3 MB 52.6 MB/s \n",
      "\u001b[?25hCollecting huggingface-hub==0.0.12\n",
      "  Downloading huggingface_hub-0.0.12-py3-none-any.whl (37 kB)\n",
      "Requirement already satisfied: typing-extensions in /usr/local/lib/python3.7/dist-packages (from huggingface-hub==0.0.12->transformers) (3.7.4.3)\n",
      "Requirement already satisfied: pyparsing>=2.0.2 in /usr/local/lib/python3.7/dist-packages (from packaging->transformers) (2.4.7)\n",
      "Requirement already satisfied: zipp>=0.5 in /usr/local/lib/python3.7/dist-packages (from importlib-metadata->transformers) (3.5.0)\n",
      "Requirement already satisfied: certifi>=2017.4.17 in /usr/local/lib/python3.7/dist-packages (from requests->transformers) (2021.5.30)\n",
      "Requirement already satisfied: idna<3,>=2.5 in /usr/local/lib/python3.7/dist-packages (from requests->transformers) (2.10)\n",
      "Requirement already satisfied: urllib3!=1.25.0,!=1.25.1,<1.26,>=1.21.1 in /usr/local/lib/python3.7/dist-packages (from requests->transformers) (1.24.3)\n",
      "Requirement already satisfied: chardet<4,>=3.0.2 in /usr/local/lib/python3.7/dist-packages (from requests->transformers) (3.0.4)\n",
      "Requirement already satisfied: click in /usr/local/lib/python3.7/dist-packages (from sacremoses->transformers) (7.1.2)\n",
      "Requirement already satisfied: joblib in /usr/local/lib/python3.7/dist-packages (from sacremoses->transformers) (1.0.1)\n",
      "Requirement already satisfied: six in /usr/local/lib/python3.7/dist-packages (from sacremoses->transformers) (1.15.0)\n",
      "Installing collected packages: tokenizers, sacremoses, pyyaml, huggingface-hub, transformers\n",
      "  Attempting uninstall: pyyaml\n",
      "    Found existing installation: PyYAML 3.13\n",
      "    Uninstalling PyYAML-3.13:\n",
      "      Successfully uninstalled PyYAML-3.13\n",
      "Successfully installed huggingface-hub-0.0.12 pyyaml-5.4.1 sacremoses-0.0.45 tokenizers-0.10.3 transformers-4.9.1\n"
     ]
    }
   ],
   "source": [
    "!pip install transformers"
   ]
  },
  {
   "cell_type": "code",
   "execution_count": 3,
   "metadata": {
    "colab": {
     "base_uri": "https://localhost:8080/"
    },
    "executionInfo": {
     "elapsed": 2803,
     "status": "ok",
     "timestamp": 1627969753790,
     "user": {
      "displayName": "손수민",
      "photoUrl": "https://lh3.googleusercontent.com/a-/AOh14GiZXBJ-kvOEILBGlPj98ROrrfIrnDf2W6zadN8_wQ=s64",
      "userId": "12227730564594143159"
     },
     "user_tz": -540
    },
    "id": "OAcugfqsfWjE",
    "outputId": "aa58b0f9-ba59-47bf-a9d0-e2dc6cc99331"
   },
   "outputs": [
    {
     "name": "stdout",
     "output_type": "stream",
     "text": [
      "Collecting sentencepiece\n",
      "  Downloading sentencepiece-0.1.96-cp37-cp37m-manylinux_2_17_x86_64.manylinux2014_x86_64.whl (1.2 MB)\n",
      "\u001b[?25l\r",
      "\u001b[K     |▎                               | 10 kB 32.4 MB/s eta 0:00:01\r",
      "\u001b[K     |▌                               | 20 kB 36.4 MB/s eta 0:00:01\r",
      "\u001b[K     |▉                               | 30 kB 24.3 MB/s eta 0:00:01\r",
      "\u001b[K     |█                               | 40 kB 19.0 MB/s eta 0:00:01\r",
      "\u001b[K     |█▍                              | 51 kB 8.8 MB/s eta 0:00:01\r",
      "\u001b[K     |█▋                              | 61 kB 9.5 MB/s eta 0:00:01\r",
      "\u001b[K     |██                              | 71 kB 7.8 MB/s eta 0:00:01\r",
      "\u001b[K     |██▏                             | 81 kB 8.8 MB/s eta 0:00:01\r",
      "\u001b[K     |██▍                             | 92 kB 7.5 MB/s eta 0:00:01\r",
      "\u001b[K     |██▊                             | 102 kB 8.1 MB/s eta 0:00:01\r",
      "\u001b[K     |███                             | 112 kB 8.1 MB/s eta 0:00:01\r",
      "\u001b[K     |███▎                            | 122 kB 8.1 MB/s eta 0:00:01\r",
      "\u001b[K     |███▌                            | 133 kB 8.1 MB/s eta 0:00:01\r",
      "\u001b[K     |███▉                            | 143 kB 8.1 MB/s eta 0:00:01\r",
      "\u001b[K     |████                            | 153 kB 8.1 MB/s eta 0:00:01\r",
      "\u001b[K     |████▎                           | 163 kB 8.1 MB/s eta 0:00:01\r",
      "\u001b[K     |████▋                           | 174 kB 8.1 MB/s eta 0:00:01\r",
      "\u001b[K     |████▉                           | 184 kB 8.1 MB/s eta 0:00:01\r",
      "\u001b[K     |█████▏                          | 194 kB 8.1 MB/s eta 0:00:01\r",
      "\u001b[K     |█████▍                          | 204 kB 8.1 MB/s eta 0:00:01\r",
      "\u001b[K     |█████▊                          | 215 kB 8.1 MB/s eta 0:00:01\r",
      "\u001b[K     |██████                          | 225 kB 8.1 MB/s eta 0:00:01\r",
      "\u001b[K     |██████▏                         | 235 kB 8.1 MB/s eta 0:00:01\r",
      "\u001b[K     |██████▌                         | 245 kB 8.1 MB/s eta 0:00:01\r",
      "\u001b[K     |██████▊                         | 256 kB 8.1 MB/s eta 0:00:01\r",
      "\u001b[K     |███████                         | 266 kB 8.1 MB/s eta 0:00:01\r",
      "\u001b[K     |███████▎                        | 276 kB 8.1 MB/s eta 0:00:01\r",
      "\u001b[K     |███████▋                        | 286 kB 8.1 MB/s eta 0:00:01\r",
      "\u001b[K     |███████▉                        | 296 kB 8.1 MB/s eta 0:00:01\r",
      "\u001b[K     |████████                        | 307 kB 8.1 MB/s eta 0:00:01\r",
      "\u001b[K     |████████▍                       | 317 kB 8.1 MB/s eta 0:00:01\r",
      "\u001b[K     |████████▋                       | 327 kB 8.1 MB/s eta 0:00:01\r",
      "\u001b[K     |█████████                       | 337 kB 8.1 MB/s eta 0:00:01\r",
      "\u001b[K     |█████████▏                      | 348 kB 8.1 MB/s eta 0:00:01\r",
      "\u001b[K     |█████████▌                      | 358 kB 8.1 MB/s eta 0:00:01\r",
      "\u001b[K     |█████████▊                      | 368 kB 8.1 MB/s eta 0:00:01\r",
      "\u001b[K     |██████████                      | 378 kB 8.1 MB/s eta 0:00:01\r",
      "\u001b[K     |██████████▎                     | 389 kB 8.1 MB/s eta 0:00:01\r",
      "\u001b[K     |██████████▌                     | 399 kB 8.1 MB/s eta 0:00:01\r",
      "\u001b[K     |██████████▉                     | 409 kB 8.1 MB/s eta 0:00:01\r",
      "\u001b[K     |███████████                     | 419 kB 8.1 MB/s eta 0:00:01\r",
      "\u001b[K     |███████████▍                    | 430 kB 8.1 MB/s eta 0:00:01\r",
      "\u001b[K     |███████████▋                    | 440 kB 8.1 MB/s eta 0:00:01\r",
      "\u001b[K     |███████████▉                    | 450 kB 8.1 MB/s eta 0:00:01\r",
      "\u001b[K     |████████████▏                   | 460 kB 8.1 MB/s eta 0:00:01\r",
      "\u001b[K     |████████████▍                   | 471 kB 8.1 MB/s eta 0:00:01\r",
      "\u001b[K     |████████████▊                   | 481 kB 8.1 MB/s eta 0:00:01\r",
      "\u001b[K     |█████████████                   | 491 kB 8.1 MB/s eta 0:00:01\r",
      "\u001b[K     |█████████████▎                  | 501 kB 8.1 MB/s eta 0:00:01\r",
      "\u001b[K     |█████████████▌                  | 512 kB 8.1 MB/s eta 0:00:01\r",
      "\u001b[K     |█████████████▊                  | 522 kB 8.1 MB/s eta 0:00:01\r",
      "\u001b[K     |██████████████                  | 532 kB 8.1 MB/s eta 0:00:01\r",
      "\u001b[K     |██████████████▎                 | 542 kB 8.1 MB/s eta 0:00:01\r",
      "\u001b[K     |██████████████▋                 | 552 kB 8.1 MB/s eta 0:00:01\r",
      "\u001b[K     |██████████████▉                 | 563 kB 8.1 MB/s eta 0:00:01\r",
      "\u001b[K     |███████████████▏                | 573 kB 8.1 MB/s eta 0:00:01\r",
      "\u001b[K     |███████████████▍                | 583 kB 8.1 MB/s eta 0:00:01\r",
      "\u001b[K     |███████████████▋                | 593 kB 8.1 MB/s eta 0:00:01\r",
      "\u001b[K     |████████████████                | 604 kB 8.1 MB/s eta 0:00:01\r",
      "\u001b[K     |████████████████▏               | 614 kB 8.1 MB/s eta 0:00:01\r",
      "\u001b[K     |████████████████▌               | 624 kB 8.1 MB/s eta 0:00:01\r",
      "\u001b[K     |████████████████▊               | 634 kB 8.1 MB/s eta 0:00:01\r",
      "\u001b[K     |█████████████████               | 645 kB 8.1 MB/s eta 0:00:01\r",
      "\u001b[K     |█████████████████▎              | 655 kB 8.1 MB/s eta 0:00:01\r",
      "\u001b[K     |█████████████████▌              | 665 kB 8.1 MB/s eta 0:00:01\r",
      "\u001b[K     |█████████████████▉              | 675 kB 8.1 MB/s eta 0:00:01\r",
      "\u001b[K     |██████████████████              | 686 kB 8.1 MB/s eta 0:00:01\r",
      "\u001b[K     |██████████████████▍             | 696 kB 8.1 MB/s eta 0:00:01\r",
      "\u001b[K     |██████████████████▋             | 706 kB 8.1 MB/s eta 0:00:01\r",
      "\u001b[K     |███████████████████             | 716 kB 8.1 MB/s eta 0:00:01\r",
      "\u001b[K     |███████████████████▏            | 727 kB 8.1 MB/s eta 0:00:01\r",
      "\u001b[K     |███████████████████▍            | 737 kB 8.1 MB/s eta 0:00:01\r",
      "\u001b[K     |███████████████████▊            | 747 kB 8.1 MB/s eta 0:00:01\r",
      "\u001b[K     |████████████████████            | 757 kB 8.1 MB/s eta 0:00:01\r",
      "\u001b[K     |████████████████████▎           | 768 kB 8.1 MB/s eta 0:00:01\r",
      "\u001b[K     |████████████████████▌           | 778 kB 8.1 MB/s eta 0:00:01\r",
      "\u001b[K     |████████████████████▉           | 788 kB 8.1 MB/s eta 0:00:01\r",
      "\u001b[K     |█████████████████████           | 798 kB 8.1 MB/s eta 0:00:01\r",
      "\u001b[K     |█████████████████████▎          | 808 kB 8.1 MB/s eta 0:00:01\r",
      "\u001b[K     |█████████████████████▋          | 819 kB 8.1 MB/s eta 0:00:01\r",
      "\u001b[K     |█████████████████████▉          | 829 kB 8.1 MB/s eta 0:00:01\r",
      "\u001b[K     |██████████████████████▏         | 839 kB 8.1 MB/s eta 0:00:01\r",
      "\u001b[K     |██████████████████████▍         | 849 kB 8.1 MB/s eta 0:00:01\r",
      "\u001b[K     |██████████████████████▊         | 860 kB 8.1 MB/s eta 0:00:01\r",
      "\u001b[K     |███████████████████████         | 870 kB 8.1 MB/s eta 0:00:01\r",
      "\u001b[K     |███████████████████████▏        | 880 kB 8.1 MB/s eta 0:00:01\r",
      "\u001b[K     |███████████████████████▌        | 890 kB 8.1 MB/s eta 0:00:01\r",
      "\u001b[K     |███████████████████████▊        | 901 kB 8.1 MB/s eta 0:00:01\r",
      "\u001b[K     |████████████████████████        | 911 kB 8.1 MB/s eta 0:00:01\r",
      "\u001b[K     |████████████████████████▎       | 921 kB 8.1 MB/s eta 0:00:01\r",
      "\u001b[K     |████████████████████████▋       | 931 kB 8.1 MB/s eta 0:00:01\r",
      "\u001b[K     |████████████████████████▉       | 942 kB 8.1 MB/s eta 0:00:01\r",
      "\u001b[K     |█████████████████████████       | 952 kB 8.1 MB/s eta 0:00:01\r",
      "\u001b[K     |█████████████████████████▍      | 962 kB 8.1 MB/s eta 0:00:01\r",
      "\u001b[K     |█████████████████████████▋      | 972 kB 8.1 MB/s eta 0:00:01\r",
      "\u001b[K     |██████████████████████████      | 983 kB 8.1 MB/s eta 0:00:01\r",
      "\u001b[K     |██████████████████████████▏     | 993 kB 8.1 MB/s eta 0:00:01\r",
      "\u001b[K     |██████████████████████████▌     | 1.0 MB 8.1 MB/s eta 0:00:01\r",
      "\u001b[K     |██████████████████████████▊     | 1.0 MB 8.1 MB/s eta 0:00:01\r",
      "\u001b[K     |███████████████████████████     | 1.0 MB 8.1 MB/s eta 0:00:01\r",
      "\u001b[K     |███████████████████████████▎    | 1.0 MB 8.1 MB/s eta 0:00:01\r",
      "\u001b[K     |███████████████████████████▌    | 1.0 MB 8.1 MB/s eta 0:00:01\r",
      "\u001b[K     |███████████████████████████▉    | 1.1 MB 8.1 MB/s eta 0:00:01\r",
      "\u001b[K     |████████████████████████████    | 1.1 MB 8.1 MB/s eta 0:00:01\r",
      "\u001b[K     |████████████████████████████▍   | 1.1 MB 8.1 MB/s eta 0:00:01\r",
      "\u001b[K     |████████████████████████████▋   | 1.1 MB 8.1 MB/s eta 0:00:01\r",
      "\u001b[K     |████████████████████████████▉   | 1.1 MB 8.1 MB/s eta 0:00:01\r",
      "\u001b[K     |█████████████████████████████▏  | 1.1 MB 8.1 MB/s eta 0:00:01\r",
      "\u001b[K     |█████████████████████████████▍  | 1.1 MB 8.1 MB/s eta 0:00:01\r",
      "\u001b[K     |█████████████████████████████▊  | 1.1 MB 8.1 MB/s eta 0:00:01\r",
      "\u001b[K     |██████████████████████████████  | 1.1 MB 8.1 MB/s eta 0:00:01\r",
      "\u001b[K     |██████████████████████████████▎ | 1.1 MB 8.1 MB/s eta 0:00:01\r",
      "\u001b[K     |██████████████████████████████▌ | 1.2 MB 8.1 MB/s eta 0:00:01\r",
      "\u001b[K     |██████████████████████████████▊ | 1.2 MB 8.1 MB/s eta 0:00:01\r",
      "\u001b[K     |███████████████████████████████ | 1.2 MB 8.1 MB/s eta 0:00:01\r",
      "\u001b[K     |███████████████████████████████▎| 1.2 MB 8.1 MB/s eta 0:00:01\r",
      "\u001b[K     |███████████████████████████████▋| 1.2 MB 8.1 MB/s eta 0:00:01\r",
      "\u001b[K     |███████████████████████████████▉| 1.2 MB 8.1 MB/s eta 0:00:01\r",
      "\u001b[K     |████████████████████████████████| 1.2 MB 8.1 MB/s \n",
      "\u001b[?25hInstalling collected packages: sentencepiece\n",
      "Successfully installed sentencepiece-0.1.96\n"
     ]
    }
   ],
   "source": [
    "!pip install sentencepiece"
   ]
  },
  {
   "cell_type": "code",
   "execution_count": 4,
   "metadata": {
    "executionInfo": {
     "elapsed": 5900,
     "status": "ok",
     "timestamp": 1627969760900,
     "user": {
      "displayName": "손수민",
      "photoUrl": "https://lh3.googleusercontent.com/a-/AOh14GiZXBJ-kvOEILBGlPj98ROrrfIrnDf2W6zadN8_wQ=s64",
      "userId": "12227730564594143159"
     },
     "user_tz": -540
    },
    "id": "367UxQcAfWmP"
   },
   "outputs": [],
   "source": [
    "import os\n",
    "import re\n",
    "import numpy as np\n",
    "from tqdm import tqdm\n",
    "\n",
    "import tensorflow as tf\n",
    "from transformers import BertModel, TFBertModel\n",
    "\n",
    "from tensorflow.keras.preprocessing.sequence import pad_sequences\n",
    "from tensorflow.keras.callbacks import EarlyStopping, ModelCheckpoint\n",
    "\n",
    "import pandas as pd\n",
    "import matplotlib.pyplot as plt"
   ]
  },
  {
   "cell_type": "code",
   "execution_count": 5,
   "metadata": {
    "executionInfo": {
     "elapsed": 339,
     "status": "ok",
     "timestamp": 1627969763634,
     "user": {
      "displayName": "손수민",
      "photoUrl": "https://lh3.googleusercontent.com/a-/AOh14GiZXBJ-kvOEILBGlPj98ROrrfIrnDf2W6zadN8_wQ=s64",
      "userId": "12227730564594143159"
     },
     "user_tz": -540
    },
    "id": "JRPpgMfnfeb_"
   },
   "outputs": [],
   "source": [
    "def plot_graphs(history, string):\n",
    "    plt.plot(history.history[string])\n",
    "    plt.plot(history.history['val_'+string], '')\n",
    "    plt.xlabel(\"Epochs\")\n",
    "    plt.ylabel(string)\n",
    "    plt.legend([string, 'val_'+string])\n",
    "    plt.show()"
   ]
  },
  {
   "cell_type": "code",
   "execution_count": 6,
   "metadata": {
    "executionInfo": {
     "elapsed": 1,
     "status": "ok",
     "timestamp": 1627969764873,
     "user": {
      "displayName": "손수민",
      "photoUrl": "https://lh3.googleusercontent.com/a-/AOh14GiZXBJ-kvOEILBGlPj98ROrrfIrnDf2W6zadN8_wQ=s64",
      "userId": "12227730564594143159"
     },
     "user_tz": -540
    },
    "id": "6daYv1DMfeeC"
   },
   "outputs": [],
   "source": [
    "#random seed 고정\n",
    "tf.random.set_seed(1234)\n",
    "np.random.seed(1234)\n",
    "\n",
    "BATCH_SIZE = 32\n",
    "NUM_EPOCHS = 3\n",
    "VALID_SPLIT = 0.2\n",
    "MAX_LEN = 44 # EDA에서 추출된 Max Length\n",
    "DATA_IN_PATH = 'data_in/KOR'\n",
    "DATA_OUT_PATH = \"data_out/KOR\""
   ]
  },
  {
   "cell_type": "code",
   "execution_count": 7,
   "metadata": {
    "executionInfo": {
     "elapsed": 3,
     "status": "ok",
     "timestamp": 1627969766692,
     "user": {
      "displayName": "손수민",
      "photoUrl": "https://lh3.googleusercontent.com/a-/AOh14GiZXBJ-kvOEILBGlPj98ROrrfIrnDf2W6zadN8_wQ=s64",
      "userId": "12227730564594143159"
     },
     "user_tz": -540
    },
    "id": "YpgeBx2of4C3"
   },
   "outputs": [],
   "source": [
    "from transformers import BertTokenizer, BertForMaskedLM"
   ]
  },
  {
   "cell_type": "code",
   "execution_count": 8,
   "metadata": {
    "colab": {
     "base_uri": "https://localhost:8080/",
     "height": 216,
     "referenced_widgets": [
      "d3601352bcce48848ce7268463a6dece",
      "3be54296654d447788f5118ffdea8e58",
      "7d1b3131c9004559a0f19743dc41cbd2",
      "cac405d6b77a4d7eb6788e5c9bb9e3c8",
      "a1f35bdd83b94808920cd67407ad854e",
      "59bdc8a8119743a593c394300f1f69db",
      "358a042032a547429e6910adb772e964",
      "f5bc80daea344169ad5966dac3516bb9",
      "010437ce808c4b2bb8df6bb823c5702d",
      "2c79873ab8af47839fd3e58c963eadb2",
      "3ca86738627f4f46986bc0f98701dfd8",
      "30d1ddd815bb4af2a4acb25a713da01d",
      "d7f4050041b0409b9547103202ac75b7",
      "cc12cca06b794487b82b001a723fbb0e",
      "e0d2798a87cf4228b239e9c6fda6204c",
      "bcd0507f67204ff4884873fec17c7e4a",
      "2890e726135d440eaef1895e55f4d772",
      "5e781ba7ac0d43348d6804d6aaab8381",
      "cb9927f61f394d769c23dd930c50f42b",
      "e9d9db27bea446049815fe78c4145d6c",
      "c4dd4d2df7b0495285e9f30ac65fa2b3",
      "83aa912ca2f9435889c9a949f7b4df39",
      "00ec52d54f964cb8b81b358e38e27333",
      "689e193e573143718525c32cef039600",
      "31b827487564408da2294ddc3f1dbaf5",
      "1eaf927fa89f4edc84f33cb5bdeab6ac",
      "21e9b30139c6433f8acdddb5bbb2de4b",
      "fa5015e058f24057984e73c3618d1b67",
      "fa08e98a1c7640baa5c1d9e94b447cc1",
      "0048a371b60e46fe96d6c7b209f38fcc",
      "62b25ea1d4554c53a434f4cf366c632c",
      "33324aa25d464793b8dd4c27ae4a7a23"
     ]
    },
    "executionInfo": {
     "elapsed": 4485,
     "status": "ok",
     "timestamp": 1627969772350,
     "user": {
      "displayName": "손수민",
      "photoUrl": "https://lh3.googleusercontent.com/a-/AOh14GiZXBJ-kvOEILBGlPj98ROrrfIrnDf2W6zadN8_wQ=s64",
      "userId": "12227730564594143159"
     },
     "user_tz": -540
    },
    "id": "S2qIgYJ1fef_",
    "outputId": "6bce7322-4713-4be8-f2e4-cdfb70d944c8"
   },
   "outputs": [
    {
     "data": {
      "application/vnd.jupyter.widget-view+json": {
       "model_id": "d3601352bcce48848ce7268463a6dece",
       "version_major": 2,
       "version_minor": 0
      },
      "text/plain": [
       "HBox(children=(FloatProgress(value=0.0, description='Downloading', max=995526.0, style=ProgressStyle(descripti…"
      ]
     },
     "metadata": {
      "tags": []
     },
     "output_type": "display_data"
    },
    {
     "name": "stdout",
     "output_type": "stream",
     "text": [
      "\n"
     ]
    },
    {
     "data": {
      "application/vnd.jupyter.widget-view+json": {
       "model_id": "010437ce808c4b2bb8df6bb823c5702d",
       "version_major": 2,
       "version_minor": 0
      },
      "text/plain": [
       "HBox(children=(FloatProgress(value=0.0, description='Downloading', max=29.0, style=ProgressStyle(description_w…"
      ]
     },
     "metadata": {
      "tags": []
     },
     "output_type": "display_data"
    },
    {
     "name": "stdout",
     "output_type": "stream",
     "text": [
      "\n"
     ]
    },
    {
     "data": {
      "application/vnd.jupyter.widget-view+json": {
       "model_id": "2890e726135d440eaef1895e55f4d772",
       "version_major": 2,
       "version_minor": 0
      },
      "text/plain": [
       "HBox(children=(FloatProgress(value=0.0, description='Downloading', max=1961828.0, style=ProgressStyle(descript…"
      ]
     },
     "metadata": {
      "tags": []
     },
     "output_type": "display_data"
    },
    {
     "name": "stdout",
     "output_type": "stream",
     "text": [
      "\n"
     ]
    },
    {
     "data": {
      "application/vnd.jupyter.widget-view+json": {
       "model_id": "31b827487564408da2294ddc3f1dbaf5",
       "version_major": 2,
       "version_minor": 0
      },
      "text/plain": [
       "HBox(children=(FloatProgress(value=0.0, description='Downloading', max=625.0, style=ProgressStyle(description_…"
      ]
     },
     "metadata": {
      "tags": []
     },
     "output_type": "display_data"
    },
    {
     "name": "stdout",
     "output_type": "stream",
     "text": [
      "\n"
     ]
    }
   ],
   "source": [
    "tokenizer = BertTokenizer.from_pretrained(\"bert-base-multilingual-cased\", cache_dir='bert_ckpt', do_lower_case=False)"
   ]
  },
  {
   "cell_type": "code",
   "execution_count": 9,
   "metadata": {
    "executionInfo": {
     "elapsed": 1741,
     "status": "ok",
     "timestamp": 1627969775813,
     "user": {
      "displayName": "손수민",
      "photoUrl": "https://lh3.googleusercontent.com/a-/AOh14GiZXBJ-kvOEILBGlPj98ROrrfIrnDf2W6zadN8_wQ=s64",
      "userId": "12227730564594143159"
     },
     "user_tz": -540
    },
    "id": "Y3ecNF7kfeh1"
   },
   "outputs": [],
   "source": [
    "PATH = '/content/drive/MyDrive/open/'\n",
    "train_data = pd.read_csv(PATH + \"train_data.csv\")\n",
    "test_data = pd.read_csv(PATH + \"test_data.csv\")\n",
    "submission = pd.read_csv(PATH + \"sample_submission.csv\")"
   ]
  },
  {
   "cell_type": "code",
   "execution_count": 10,
   "metadata": {
    "executionInfo": {
     "elapsed": 393,
     "status": "ok",
     "timestamp": 1627969777557,
     "user": {
      "displayName": "손수민",
      "photoUrl": "https://lh3.googleusercontent.com/a-/AOh14GiZXBJ-kvOEILBGlPj98ROrrfIrnDf2W6zadN8_wQ=s64",
      "userId": "12227730564594143159"
     },
     "user_tz": -540
    },
    "id": "bNWKHT9Xfej2"
   },
   "outputs": [],
   "source": [
    "def bert_tokenizer(sent, MAX_LEN):\n",
    "    \n",
    "    encoded_dict = tokenizer.encode_plus(\n",
    "        text = sent,\n",
    "        add_special_tokens = True, # Add '[CLS]' and '[SEP]'\n",
    "        max_length = MAX_LEN,           # Pad & truncate all sentences.\n",
    "        pad_to_max_length = True,\n",
    "        return_attention_mask = True   # Construct attn. masks.\n",
    "        \n",
    "    )\n",
    "    \n",
    "    input_id = encoded_dict['input_ids']\n",
    "    attention_mask = encoded_dict['attention_mask'] # And its attention mask (simply differentiates padding from non-padding).\n",
    "    token_type_id = encoded_dict['token_type_ids'] # differentiate two sentences\n",
    "    \n",
    "    return input_id, attention_mask, token_type_id"
   ]
  },
  {
   "cell_type": "code",
   "execution_count": 11,
   "metadata": {
    "colab": {
     "base_uri": "https://localhost:8080/"
    },
    "executionInfo": {
     "elapsed": 13836,
     "status": "ok",
     "timestamp": 1627969793371,
     "user": {
      "displayName": "손수민",
      "photoUrl": "https://lh3.googleusercontent.com/a-/AOh14GiZXBJ-kvOEILBGlPj98ROrrfIrnDf2W6zadN8_wQ=s64",
      "userId": "12227730564594143159"
     },
     "user_tz": -540
    },
    "id": "yXdqSrVefWwE",
    "outputId": "a92b4afb-48de-409f-927a-1106a8d1479c"
   },
   "outputs": [
    {
     "name": "stderr",
     "output_type": "stream",
     "text": [
      "  0%|          | 0/45654 [00:00<?, ?it/s]Truncation was not explicitly activated but `max_length` is provided a specific value, please use `truncation=True` to explicitly truncate examples to max length. Defaulting to 'longest_first' truncation strategy. If you encode pairs of sequences (GLUE-style) with the tokenizer you can select this strategy more precisely by providing a specific strategy to `truncation`.\n",
      "/usr/local/lib/python3.7/dist-packages/transformers/tokenization_utils_base.py:2190: FutureWarning: The `pad_to_max_length` argument is deprecated and will be removed in a future version, use `padding=True` or `padding='longest'` to pad to the longest sequence in the batch, or use `padding='max_length'` to pad to a max length. In this case, you can give a specific length with `max_length` (e.g. `max_length=45`) or leave max_length to None to pad to the maximal input size of the model (e.g. 512 for Bert).\n",
      "  FutureWarning,\n",
      "100%|██████████| 45654/45654 [00:12<00:00, 3524.03it/s]\n"
     ]
    },
    {
     "name": "stdout",
     "output_type": "stream",
     "text": [
      "# sents: 45654, # labels: 45654\n"
     ]
    }
   ],
   "source": [
    "input_ids = []\n",
    "attention_masks = []\n",
    "token_type_ids = []\n",
    "train_data_labels = []\n",
    "\n",
    "for train_sent, train_label in tqdm(zip(train_data[\"title\"], train_data[\"topic_idx\"]), total=len(train_data)):\n",
    "    try:\n",
    "        input_id, attention_mask, token_type_id = bert_tokenizer(train_sent, MAX_LEN)\n",
    "        \n",
    "        input_ids.append(input_id)\n",
    "        attention_masks.append(attention_mask)\n",
    "        token_type_ids.append(token_type_id)\n",
    "        train_data_labels.append(train_label)\n",
    "\n",
    "    except Exception as e:\n",
    "        print(e)\n",
    "        print(train_sent)\n",
    "        pass\n",
    "\n",
    "train_movie_input_ids = np.array(input_ids, dtype=int)\n",
    "train_movie_attention_masks = np.array(attention_masks, dtype=int)\n",
    "train_movie_type_ids = np.array(token_type_ids, dtype=int)\n",
    "train_movie_inputs = (train_movie_input_ids, train_movie_attention_masks, train_movie_type_ids)\n",
    "\n",
    "train_data_labels = np.asarray(train_data_labels, dtype=np.int32) #레이블 토크나이징 리스트\n",
    "\n",
    "print(\"# sents: {}, # labels: {}\".format(len(train_movie_input_ids), len(train_data_labels)))"
   ]
  },
  {
   "cell_type": "code",
   "execution_count": 12,
   "metadata": {
    "colab": {
     "base_uri": "https://localhost:8080/",
     "height": 225,
     "referenced_widgets": [
      "f627f071668f441a8e6cec3656fed694",
      "67d2b14a7f184d74b69cc8aa0946eec5",
      "82a0bd03787b43978f1a77f94b8605c8",
      "f2ae2c48d1134eb4af1443c2598f5528",
      "51fe39b68657430a923f3d83c37443be",
      "504360c0f0014547a9242b5a0b8055ff",
      "1a5a6ae7e4ec4054a7b54cd1d74e463a",
      "726dd6c0cf4c409580b45eb62285d93a",
      "c5d8c399c80f46f5acaba6fe50e4dfb8",
      "35618f276f9d4342b25759d6212e6ed8",
      "0dc1ec66fc9b4717912b1966c7c857b3",
      "0a1b2e90bb924bee906e5ded4f7f7315",
      "922bd30f72e042488d1a42d1493be04d",
      "ff3d831e252c4f629396003985775bf7",
      "0029ad0a9c2b4748b55bbafbd2f0eff8",
      "b42bbb32bad34807b2cbdc89739e85d3"
     ]
    },
    "executionInfo": {
     "elapsed": 32591,
     "status": "ok",
     "timestamp": 1627969826817,
     "user": {
      "displayName": "손수민",
      "photoUrl": "https://lh3.googleusercontent.com/a-/AOh14GiZXBJ-kvOEILBGlPj98ROrrfIrnDf2W6zadN8_wQ=s64",
      "userId": "12227730564594143159"
     },
     "user_tz": -540
    },
    "id": "8tD2lpq_fWyu",
    "outputId": "12dcf917-c546-49a7-a48d-2807b38fc314"
   },
   "outputs": [
    {
     "data": {
      "application/vnd.jupyter.widget-view+json": {
       "model_id": "f627f071668f441a8e6cec3656fed694",
       "version_major": 2,
       "version_minor": 0
      },
      "text/plain": [
       "HBox(children=(FloatProgress(value=0.0, description='Downloading', max=625.0, style=ProgressStyle(description_…"
      ]
     },
     "metadata": {
      "tags": []
     },
     "output_type": "display_data"
    },
    {
     "name": "stdout",
     "output_type": "stream",
     "text": [
      "\n"
     ]
    },
    {
     "data": {
      "application/vnd.jupyter.widget-view+json": {
       "model_id": "c5d8c399c80f46f5acaba6fe50e4dfb8",
       "version_major": 2,
       "version_minor": 0
      },
      "text/plain": [
       "HBox(children=(FloatProgress(value=0.0, description='Downloading', max=1083389348.0, style=ProgressStyle(descr…"
      ]
     },
     "metadata": {
      "tags": []
     },
     "output_type": "display_data"
    },
    {
     "name": "stdout",
     "output_type": "stream",
     "text": [
      "\n"
     ]
    },
    {
     "name": "stderr",
     "output_type": "stream",
     "text": [
      "Some layers from the model checkpoint at bert-base-multilingual-cased were not used when initializing TFBertModel: ['nsp___cls', 'mlm___cls']\n",
      "- This IS expected if you are initializing TFBertModel from the checkpoint of a model trained on another task or with another architecture (e.g. initializing a BertForSequenceClassification model from a BertForPreTraining model).\n",
      "- This IS NOT expected if you are initializing TFBertModel from the checkpoint of a model that you expect to be exactly identical (initializing a BertForSequenceClassification model from a BertForSequenceClassification model).\n",
      "All the layers of TFBertModel were initialized from the model checkpoint at bert-base-multilingual-cased.\n",
      "If your task is similar to the task the model of the checkpoint was trained on, you can already use TFBertModel for predictions without further training.\n"
     ]
    }
   ],
   "source": [
    "class TFBertClassifier(tf.keras.Model):\n",
    "    def __init__(self, model_name, dir_path, num_class):\n",
    "        super(TFBertClassifier, self).__init__()\n",
    "\n",
    "        self.bert = TFBertModel.from_pretrained(model_name, cache_dir=dir_path)\n",
    "        self.dropout = tf.keras.layers.Dropout(self.bert.config.hidden_dropout_prob)\n",
    "        self.classifier = tf.keras.layers.Dense(num_class, \n",
    "                                                kernel_initializer=tf.keras.initializers.TruncatedNormal(self.bert.config.initializer_range), \n",
    "                                                name=\"classifier\")\n",
    "        \n",
    "    def call(self, inputs, attention_mask=None, token_type_ids=None, training=False):\n",
    "        \n",
    "        #outputs 값: # sequence_output, pooled_output, (hidden_states), (attentions)\n",
    "        outputs = self.bert(inputs, attention_mask=attention_mask, token_type_ids=token_type_ids)\n",
    "        pooled_output = outputs[1] \n",
    "        pooled_output = self.dropout(pooled_output, training=training)\n",
    "        logits = self.classifier(pooled_output)\n",
    "\n",
    "        return logits\n",
    "\n",
    "cls_model = TFBertClassifier(model_name='bert-base-multilingual-cased',\n",
    "                                  dir_path='bert_ckpt',\n",
    "                                  num_class=7)"
   ]
  },
  {
   "cell_type": "code",
   "execution_count": 13,
   "metadata": {
    "executionInfo": {
     "elapsed": 311,
     "status": "ok",
     "timestamp": 1627969829906,
     "user": {
      "displayName": "손수민",
      "photoUrl": "https://lh3.googleusercontent.com/a-/AOh14GiZXBJ-kvOEILBGlPj98ROrrfIrnDf2W6zadN8_wQ=s64",
      "userId": "12227730564594143159"
     },
     "user_tz": -540
    },
    "id": "eC2Bf5UZgTVz"
   },
   "outputs": [],
   "source": [
    "optimizer = tf.keras.optimizers.Adam(3e-5)\n",
    "loss = tf.keras.losses.SparseCategoricalCrossentropy(from_logits=True)\n",
    "metric = tf.keras.metrics.SparseCategoricalAccuracy('accuracy')\n",
    "cls_model.compile(optimizer=optimizer, loss=loss, metrics=[metric])"
   ]
  },
  {
   "cell_type": "code",
   "execution_count": 14,
   "metadata": {
    "colab": {
     "base_uri": "https://localhost:8080/"
    },
    "executionInfo": {
     "elapsed": 1240088,
     "status": "ok",
     "timestamp": 1627971071558,
     "user": {
      "displayName": "손수민",
      "photoUrl": "https://lh3.googleusercontent.com/a-/AOh14GiZXBJ-kvOEILBGlPj98ROrrfIrnDf2W6zadN8_wQ=s64",
      "userId": "12227730564594143159"
     },
     "user_tz": -540
    },
    "id": "xqCZ5O8igTX2",
    "outputId": "4585655b-423a-4629-911a-f850d87028cd"
   },
   "outputs": [
    {
     "name": "stdout",
     "output_type": "stream",
     "text": [
      "data_out/KOR/tf2_bert_naver_movie -- Folder create complete \n",
      "\n",
      "Epoch 1/3\n",
      "WARNING:tensorflow:The parameters `output_attentions`, `output_hidden_states` and `use_cache` cannot be updated when calling a model.They have to be set to True/False in the config object (i.e.: `config=XConfig.from_pretrained('name', output_attentions=True)`).\n",
      "WARNING:tensorflow:AutoGraph could not transform <bound method Socket.send of <zmq.sugar.socket.Socket object at 0x7f6268c9ed70>> and will run it as-is.\n",
      "Please report this to the TensorFlow team. When filing the bug, set the verbosity to 10 (on Linux, `export AUTOGRAPH_VERBOSITY=10`) and attach the full output.\n",
      "Cause: module, class, method, function, traceback, frame, or code object was expected, got cython_function_or_method\n",
      "To silence this warning, decorate the function with @tf.autograph.experimental.do_not_convert\n",
      "WARNING: AutoGraph could not transform <bound method Socket.send of <zmq.sugar.socket.Socket object at 0x7f6268c9ed70>> and will run it as-is.\n",
      "Please report this to the TensorFlow team. When filing the bug, set the verbosity to 10 (on Linux, `export AUTOGRAPH_VERBOSITY=10`) and attach the full output.\n",
      "Cause: module, class, method, function, traceback, frame, or code object was expected, got cython_function_or_method\n",
      "To silence this warning, decorate the function with @tf.autograph.experimental.do_not_convert\n",
      "WARNING:tensorflow:AutoGraph could not transform <function wrap at 0x7f6283e50170> and will run it as-is.\n",
      "Cause: while/else statement not yet supported\n",
      "To silence this warning, decorate the function with @tf.autograph.experimental.do_not_convert\n",
      "WARNING: AutoGraph could not transform <function wrap at 0x7f6283e50170> and will run it as-is.\n",
      "Cause: while/else statement not yet supported\n",
      "To silence this warning, decorate the function with @tf.autograph.experimental.do_not_convert\n",
      "WARNING:tensorflow:The parameter `return_dict` cannot be set in graph mode and will always be set to `True`.\n",
      "WARNING:tensorflow:From /usr/local/lib/python3.7/dist-packages/tensorflow/python/ops/array_ops.py:5049: calling gather (from tensorflow.python.ops.array_ops) with validate_indices is deprecated and will be removed in a future version.\n",
      "Instructions for updating:\n",
      "The `validate_indices` argument has no effect. Indices are always validated on CPU and never validated on GPU.\n",
      "WARNING:tensorflow:The parameters `output_attentions`, `output_hidden_states` and `use_cache` cannot be updated when calling a model.They have to be set to True/False in the config object (i.e.: `config=XConfig.from_pretrained('name', output_attentions=True)`).\n",
      "WARNING:tensorflow:The parameter `return_dict` cannot be set in graph mode and will always be set to `True`.\n",
      "1142/1142 [==============================] - ETA: 0s - loss: 0.5614 - accuracy: 0.8122WARNING:tensorflow:The parameters `output_attentions`, `output_hidden_states` and `use_cache` cannot be updated when calling a model.They have to be set to True/False in the config object (i.e.: `config=XConfig.from_pretrained('name', output_attentions=True)`).\n",
      "WARNING:tensorflow:The parameter `return_dict` cannot be set in graph mode and will always be set to `True`.\n",
      "1142/1142 [==============================] - 442s 345ms/step - loss: 0.5614 - accuracy: 0.8122 - val_loss: 0.6103 - val_accuracy: 0.7817\n",
      "\n",
      "Epoch 00001: val_accuracy improved from -inf to 0.78173, saving model to data_out/KOR/tf2_bert_naver_movie/weights.h5\n",
      "Epoch 2/3\n",
      "1142/1142 [==============================] - 396s 347ms/step - loss: 0.3672 - accuracy: 0.8758 - val_loss: 0.6330 - val_accuracy: 0.7745\n",
      "\n",
      "Epoch 00002: val_accuracy did not improve from 0.78173\n",
      "Epoch 3/3\n",
      "1142/1142 [==============================] - 396s 347ms/step - loss: 0.2931 - accuracy: 0.8993 - val_loss: 0.5419 - val_accuracy: 0.8076\n",
      "\n",
      "Epoch 00003: val_accuracy improved from 0.78173 to 0.80758, saving model to data_out/KOR/tf2_bert_naver_movie/weights.h5\n",
      "{'loss': [0.5613657832145691, 0.36724719405174255, 0.29314157366752625], 'accuracy': [0.8122005462646484, 0.875831663608551, 0.8992689251899719], 'val_loss': [0.6102551221847534, 0.6329793334007263, 0.541856586933136], 'val_accuracy': [0.7817325592041016, 0.7745044231414795, 0.8075785636901855]}\n"
     ]
    }
   ],
   "source": [
    "model_name = \"tf2_bert_naver_movie\"\n",
    "\n",
    "# overfitting을 막기 위한 ealrystop 추가\n",
    "earlystop_callback = EarlyStopping(monitor='val_accuracy', min_delta=0.0001,patience=2)\n",
    "# min_delta: the threshold that triggers the termination (acc should at least improve 0.0001)\n",
    "# patience: no improvment epochs (patience = 1, 1번 이상 상승이 없으면 종료)\\\n",
    "\n",
    "checkpoint_path = os.path.join(DATA_OUT_PATH, model_name, 'weights.h5')\n",
    "checkpoint_dir = os.path.dirname(checkpoint_path)\n",
    "\n",
    "# Create path if exists\n",
    "if os.path.exists(checkpoint_dir):\n",
    "    print(\"{} -- Folder already exists \\n\".format(checkpoint_dir))\n",
    "else:\n",
    "    os.makedirs(checkpoint_dir, exist_ok=True)\n",
    "    print(\"{} -- Folder create complete \\n\".format(checkpoint_dir))\n",
    "    \n",
    "cp_callback = ModelCheckpoint(\n",
    "    checkpoint_path, monitor='val_accuracy', verbose=1, save_best_only=True, save_weights_only=True)\n",
    "\n",
    "# 학습과 eval 시작\n",
    "history = cls_model.fit(train_movie_inputs, train_data_labels, epochs=NUM_EPOCHS, batch_size=BATCH_SIZE,\n",
    "                    validation_split = VALID_SPLIT, callbacks=[earlystop_callback, cp_callback])\n",
    "\n",
    "#steps_for_epoch\n",
    "\n",
    "print(history.history)"
   ]
  },
  {
   "cell_type": "code",
   "execution_count": 15,
   "metadata": {
    "colab": {
     "base_uri": "https://localhost:8080/"
    },
    "executionInfo": {
     "elapsed": 830,
     "status": "ok",
     "timestamp": 1627971072372,
     "user": {
      "displayName": "손수민",
      "photoUrl": "https://lh3.googleusercontent.com/a-/AOh14GiZXBJ-kvOEILBGlPj98ROrrfIrnDf2W6zadN8_wQ=s64",
      "userId": "12227730564594143159"
     },
     "user_tz": -540
    },
    "id": "Cvyf99uJgTaE",
    "outputId": "3ed425f2-66d1-49b7-8c71-37d078f039f2"
   },
   "outputs": [
    {
     "name": "stderr",
     "output_type": "stream",
     "text": [
      "0it [00:00, ?it/s]/usr/local/lib/python3.7/dist-packages/transformers/tokenization_utils_base.py:2190: FutureWarning: The `pad_to_max_length` argument is deprecated and will be removed in a future version, use `padding=True` or `padding='longest'` to pad to the longest sequence in the batch, or use `padding='max_length'` to pad to a max length. In this case, you can give a specific length with `max_length` (e.g. `max_length=45`) or leave max_length to None to pad to the maximal input size of the model (e.g. 512 for Bert).\n",
      "  FutureWarning,\n",
      "9131it [00:00, 13761.39it/s]\n"
     ]
    }
   ],
   "source": [
    "input_ids = []\n",
    "attention_masks = []\n",
    "token_type_ids = []\n",
    "test_data_labels = []\n",
    "\n",
    "for test_sent in tqdm(zip(test_data[\"title\"])):\n",
    "    try:\n",
    "        input_id, attention_mask, token_type_id = bert_tokenizer(test_sent, MAX_LEN)\n",
    "\n",
    "        input_ids.append(input_id)\n",
    "        attention_masks.append(attention_mask)\n",
    "        token_type_ids.append(token_type_id)\n",
    "    except Exception as e:\n",
    "        print(e)\n",
    "        print(test_sent)\n",
    "        pass\n",
    "\n",
    "test_movie_input_ids = np.array(input_ids, dtype=int)\n",
    "test_movie_attention_masks = np.array(attention_masks, dtype=int)\n",
    "test_movie_type_ids = np.array(token_type_ids, dtype=int)\n",
    "test_movie_inputs = (test_movie_input_ids, test_movie_attention_masks, test_movie_type_ids)"
   ]
  },
  {
   "cell_type": "code",
   "execution_count": 16,
   "metadata": {
    "colab": {
     "base_uri": "https://localhost:8080/"
    },
    "executionInfo": {
     "elapsed": 43294,
     "status": "ok",
     "timestamp": 1627971115662,
     "user": {
      "displayName": "손수민",
      "photoUrl": "https://lh3.googleusercontent.com/a-/AOh14GiZXBJ-kvOEILBGlPj98ROrrfIrnDf2W6zadN8_wQ=s64",
      "userId": "12227730564594143159"
     },
     "user_tz": -540
    },
    "id": "NK7FpD4ZgTb8",
    "outputId": "f9184118-6b70-4ecd-947e-19a4cef9219d"
   },
   "outputs": [
    {
     "name": "stdout",
     "output_type": "stream",
     "text": [
      "WARNING:tensorflow:The parameters `output_attentions`, `output_hidden_states` and `use_cache` cannot be updated when calling a model.They have to be set to True/False in the config object (i.e.: `config=XConfig.from_pretrained('name', output_attentions=True)`).\n",
      "WARNING:tensorflow:The parameter `return_dict` cannot be set in graph mode and will always be set to `True`.\n"
     ]
    }
   ],
   "source": [
    "results = cls_model.predict(test_movie_inputs, batch_size=1024)"
   ]
  },
  {
   "cell_type": "code",
   "execution_count": 17,
   "metadata": {
    "executionInfo": {
     "elapsed": 13,
     "status": "ok",
     "timestamp": 1627971115664,
     "user": {
      "displayName": "손수민",
      "photoUrl": "https://lh3.googleusercontent.com/a-/AOh14GiZXBJ-kvOEILBGlPj98ROrrfIrnDf2W6zadN8_wQ=s64",
      "userId": "12227730564594143159"
     },
     "user_tz": -540
    },
    "id": "mqmwELs_gTd6"
   },
   "outputs": [],
   "source": [
    "topic = []\n",
    "for i in range(len(results)):\n",
    "    topic.append(np.argmax(results[i]))"
   ]
  },
  {
   "cell_type": "code",
   "execution_count": 18,
   "metadata": {
    "executionInfo": {
     "elapsed": 14,
     "status": "ok",
     "timestamp": 1627971115665,
     "user": {
      "displayName": "손수민",
      "photoUrl": "https://lh3.googleusercontent.com/a-/AOh14GiZXBJ-kvOEILBGlPj98ROrrfIrnDf2W6zadN8_wQ=s64",
      "userId": "12227730564594143159"
     },
     "user_tz": -540
    },
    "id": "X8Y5UEQ2gTfz"
   },
   "outputs": [],
   "source": [
    "submission['topic_idx']=topic"
   ]
  },
  {
   "cell_type": "code",
   "execution_count": 20,
   "metadata": {
    "executionInfo": {
     "elapsed": 320,
     "status": "ok",
     "timestamp": 1627971419710,
     "user": {
      "displayName": "손수민",
      "photoUrl": "https://lh3.googleusercontent.com/a-/AOh14GiZXBJ-kvOEILBGlPj98ROrrfIrnDf2W6zadN8_wQ=s64",
      "userId": "12227730564594143159"
     },
     "user_tz": -540
    },
    "id": "72Y6xYadgdtq"
   },
   "outputs": [],
   "source": [
    "submission.to_csv('bert_baseline.csv', index=False)"
   ]
  },
  {
   "cell_type": "code",
   "execution_count": null,
   "metadata": {
    "id": "Katttvmbh0Kr"
   },
   "outputs": [],
   "source": []
  }
 ],
 "metadata": {
  "accelerator": "GPU",
  "colab": {
   "authorship_tag": "ABX9TyNIeKKV+zhN8enIyU/0+3Ij",
   "name": "Untitled1.ipynb",
   "provenance": []
  },
  "kernelspec": {
   "display_name": "Python 3",
   "language": "python",
   "name": "python3"
  },
  "language_info": {
   "codemirror_mode": {
    "name": "ipython",
    "version": 3
   },
   "file_extension": ".py",
   "mimetype": "text/x-python",
   "name": "python",
   "nbconvert_exporter": "python",
   "pygments_lexer": "ipython3",
   "version": "3.8.8"
  },
  "widgets": {
   "application/vnd.jupyter.widget-state+json": {
    "0029ad0a9c2b4748b55bbafbd2f0eff8": {
     "model_module": "@jupyter-widgets/controls",
     "model_name": "DescriptionStyleModel",
     "state": {
      "_model_module": "@jupyter-widgets/controls",
      "_model_module_version": "1.5.0",
      "_model_name": "DescriptionStyleModel",
      "_view_count": null,
      "_view_module": "@jupyter-widgets/base",
      "_view_module_version": "1.2.0",
      "_view_name": "StyleView",
      "description_width": ""
     }
    },
    "0048a371b60e46fe96d6c7b209f38fcc": {
     "model_module": "@jupyter-widgets/base",
     "model_name": "LayoutModel",
     "state": {
      "_model_module": "@jupyter-widgets/base",
      "_model_module_version": "1.2.0",
      "_model_name": "LayoutModel",
      "_view_count": null,
      "_view_module": "@jupyter-widgets/base",
      "_view_module_version": "1.2.0",
      "_view_name": "LayoutView",
      "align_content": null,
      "align_items": null,
      "align_self": null,
      "border": null,
      "bottom": null,
      "display": null,
      "flex": null,
      "flex_flow": null,
      "grid_area": null,
      "grid_auto_columns": null,
      "grid_auto_flow": null,
      "grid_auto_rows": null,
      "grid_column": null,
      "grid_gap": null,
      "grid_row": null,
      "grid_template_areas": null,
      "grid_template_columns": null,
      "grid_template_rows": null,
      "height": null,
      "justify_content": null,
      "justify_items": null,
      "left": null,
      "margin": null,
      "max_height": null,
      "max_width": null,
      "min_height": null,
      "min_width": null,
      "object_fit": null,
      "object_position": null,
      "order": null,
      "overflow": null,
      "overflow_x": null,
      "overflow_y": null,
      "padding": null,
      "right": null,
      "top": null,
      "visibility": null,
      "width": null
     }
    },
    "00ec52d54f964cb8b81b358e38e27333": {
     "model_module": "@jupyter-widgets/controls",
     "model_name": "DescriptionStyleModel",
     "state": {
      "_model_module": "@jupyter-widgets/controls",
      "_model_module_version": "1.5.0",
      "_model_name": "DescriptionStyleModel",
      "_view_count": null,
      "_view_module": "@jupyter-widgets/base",
      "_view_module_version": "1.2.0",
      "_view_name": "StyleView",
      "description_width": ""
     }
    },
    "010437ce808c4b2bb8df6bb823c5702d": {
     "model_module": "@jupyter-widgets/controls",
     "model_name": "HBoxModel",
     "state": {
      "_dom_classes": [],
      "_model_module": "@jupyter-widgets/controls",
      "_model_module_version": "1.5.0",
      "_model_name": "HBoxModel",
      "_view_count": null,
      "_view_module": "@jupyter-widgets/controls",
      "_view_module_version": "1.5.0",
      "_view_name": "HBoxView",
      "box_style": "",
      "children": [
       "IPY_MODEL_3ca86738627f4f46986bc0f98701dfd8",
       "IPY_MODEL_30d1ddd815bb4af2a4acb25a713da01d"
      ],
      "layout": "IPY_MODEL_2c79873ab8af47839fd3e58c963eadb2"
     }
    },
    "0a1b2e90bb924bee906e5ded4f7f7315": {
     "model_module": "@jupyter-widgets/controls",
     "model_name": "HTMLModel",
     "state": {
      "_dom_classes": [],
      "_model_module": "@jupyter-widgets/controls",
      "_model_module_version": "1.5.0",
      "_model_name": "HTMLModel",
      "_view_count": null,
      "_view_module": "@jupyter-widgets/controls",
      "_view_module_version": "1.5.0",
      "_view_name": "HTMLView",
      "description": "",
      "description_tooltip": null,
      "layout": "IPY_MODEL_b42bbb32bad34807b2cbdc89739e85d3",
      "placeholder": "​",
      "style": "IPY_MODEL_0029ad0a9c2b4748b55bbafbd2f0eff8",
      "value": " 1.08G/1.08G [00:21&lt;00:00, 50.2MB/s]"
     }
    },
    "0dc1ec66fc9b4717912b1966c7c857b3": {
     "model_module": "@jupyter-widgets/controls",
     "model_name": "FloatProgressModel",
     "state": {
      "_dom_classes": [],
      "_model_module": "@jupyter-widgets/controls",
      "_model_module_version": "1.5.0",
      "_model_name": "FloatProgressModel",
      "_view_count": null,
      "_view_module": "@jupyter-widgets/controls",
      "_view_module_version": "1.5.0",
      "_view_name": "ProgressView",
      "bar_style": "success",
      "description": "Downloading: 100%",
      "description_tooltip": null,
      "layout": "IPY_MODEL_ff3d831e252c4f629396003985775bf7",
      "max": 1083389348,
      "min": 0,
      "orientation": "horizontal",
      "style": "IPY_MODEL_922bd30f72e042488d1a42d1493be04d",
      "value": 1083389348
     }
    },
    "1a5a6ae7e4ec4054a7b54cd1d74e463a": {
     "model_module": "@jupyter-widgets/controls",
     "model_name": "DescriptionStyleModel",
     "state": {
      "_model_module": "@jupyter-widgets/controls",
      "_model_module_version": "1.5.0",
      "_model_name": "DescriptionStyleModel",
      "_view_count": null,
      "_view_module": "@jupyter-widgets/base",
      "_view_module_version": "1.2.0",
      "_view_name": "StyleView",
      "description_width": ""
     }
    },
    "1eaf927fa89f4edc84f33cb5bdeab6ac": {
     "model_module": "@jupyter-widgets/base",
     "model_name": "LayoutModel",
     "state": {
      "_model_module": "@jupyter-widgets/base",
      "_model_module_version": "1.2.0",
      "_model_name": "LayoutModel",
      "_view_count": null,
      "_view_module": "@jupyter-widgets/base",
      "_view_module_version": "1.2.0",
      "_view_name": "LayoutView",
      "align_content": null,
      "align_items": null,
      "align_self": null,
      "border": null,
      "bottom": null,
      "display": null,
      "flex": null,
      "flex_flow": null,
      "grid_area": null,
      "grid_auto_columns": null,
      "grid_auto_flow": null,
      "grid_auto_rows": null,
      "grid_column": null,
      "grid_gap": null,
      "grid_row": null,
      "grid_template_areas": null,
      "grid_template_columns": null,
      "grid_template_rows": null,
      "height": null,
      "justify_content": null,
      "justify_items": null,
      "left": null,
      "margin": null,
      "max_height": null,
      "max_width": null,
      "min_height": null,
      "min_width": null,
      "object_fit": null,
      "object_position": null,
      "order": null,
      "overflow": null,
      "overflow_x": null,
      "overflow_y": null,
      "padding": null,
      "right": null,
      "top": null,
      "visibility": null,
      "width": null
     }
    },
    "21e9b30139c6433f8acdddb5bbb2de4b": {
     "model_module": "@jupyter-widgets/controls",
     "model_name": "FloatProgressModel",
     "state": {
      "_dom_classes": [],
      "_model_module": "@jupyter-widgets/controls",
      "_model_module_version": "1.5.0",
      "_model_name": "FloatProgressModel",
      "_view_count": null,
      "_view_module": "@jupyter-widgets/controls",
      "_view_module_version": "1.5.0",
      "_view_name": "ProgressView",
      "bar_style": "success",
      "description": "Downloading: 100%",
      "description_tooltip": null,
      "layout": "IPY_MODEL_0048a371b60e46fe96d6c7b209f38fcc",
      "max": 625,
      "min": 0,
      "orientation": "horizontal",
      "style": "IPY_MODEL_fa08e98a1c7640baa5c1d9e94b447cc1",
      "value": 625
     }
    },
    "2890e726135d440eaef1895e55f4d772": {
     "model_module": "@jupyter-widgets/controls",
     "model_name": "HBoxModel",
     "state": {
      "_dom_classes": [],
      "_model_module": "@jupyter-widgets/controls",
      "_model_module_version": "1.5.0",
      "_model_name": "HBoxModel",
      "_view_count": null,
      "_view_module": "@jupyter-widgets/controls",
      "_view_module_version": "1.5.0",
      "_view_name": "HBoxView",
      "box_style": "",
      "children": [
       "IPY_MODEL_cb9927f61f394d769c23dd930c50f42b",
       "IPY_MODEL_e9d9db27bea446049815fe78c4145d6c"
      ],
      "layout": "IPY_MODEL_5e781ba7ac0d43348d6804d6aaab8381"
     }
    },
    "2c79873ab8af47839fd3e58c963eadb2": {
     "model_module": "@jupyter-widgets/base",
     "model_name": "LayoutModel",
     "state": {
      "_model_module": "@jupyter-widgets/base",
      "_model_module_version": "1.2.0",
      "_model_name": "LayoutModel",
      "_view_count": null,
      "_view_module": "@jupyter-widgets/base",
      "_view_module_version": "1.2.0",
      "_view_name": "LayoutView",
      "align_content": null,
      "align_items": null,
      "align_self": null,
      "border": null,
      "bottom": null,
      "display": null,
      "flex": null,
      "flex_flow": null,
      "grid_area": null,
      "grid_auto_columns": null,
      "grid_auto_flow": null,
      "grid_auto_rows": null,
      "grid_column": null,
      "grid_gap": null,
      "grid_row": null,
      "grid_template_areas": null,
      "grid_template_columns": null,
      "grid_template_rows": null,
      "height": null,
      "justify_content": null,
      "justify_items": null,
      "left": null,
      "margin": null,
      "max_height": null,
      "max_width": null,
      "min_height": null,
      "min_width": null,
      "object_fit": null,
      "object_position": null,
      "order": null,
      "overflow": null,
      "overflow_x": null,
      "overflow_y": null,
      "padding": null,
      "right": null,
      "top": null,
      "visibility": null,
      "width": null
     }
    },
    "30d1ddd815bb4af2a4acb25a713da01d": {
     "model_module": "@jupyter-widgets/controls",
     "model_name": "HTMLModel",
     "state": {
      "_dom_classes": [],
      "_model_module": "@jupyter-widgets/controls",
      "_model_module_version": "1.5.0",
      "_model_name": "HTMLModel",
      "_view_count": null,
      "_view_module": "@jupyter-widgets/controls",
      "_view_module_version": "1.5.0",
      "_view_name": "HTMLView",
      "description": "",
      "description_tooltip": null,
      "layout": "IPY_MODEL_bcd0507f67204ff4884873fec17c7e4a",
      "placeholder": "​",
      "style": "IPY_MODEL_e0d2798a87cf4228b239e9c6fda6204c",
      "value": " 29.0/29.0 [00:00&lt;00:00, 29.3B/s]"
     }
    },
    "31b827487564408da2294ddc3f1dbaf5": {
     "model_module": "@jupyter-widgets/controls",
     "model_name": "HBoxModel",
     "state": {
      "_dom_classes": [],
      "_model_module": "@jupyter-widgets/controls",
      "_model_module_version": "1.5.0",
      "_model_name": "HBoxModel",
      "_view_count": null,
      "_view_module": "@jupyter-widgets/controls",
      "_view_module_version": "1.5.0",
      "_view_name": "HBoxView",
      "box_style": "",
      "children": [
       "IPY_MODEL_21e9b30139c6433f8acdddb5bbb2de4b",
       "IPY_MODEL_fa5015e058f24057984e73c3618d1b67"
      ],
      "layout": "IPY_MODEL_1eaf927fa89f4edc84f33cb5bdeab6ac"
     }
    },
    "33324aa25d464793b8dd4c27ae4a7a23": {
     "model_module": "@jupyter-widgets/base",
     "model_name": "LayoutModel",
     "state": {
      "_model_module": "@jupyter-widgets/base",
      "_model_module_version": "1.2.0",
      "_model_name": "LayoutModel",
      "_view_count": null,
      "_view_module": "@jupyter-widgets/base",
      "_view_module_version": "1.2.0",
      "_view_name": "LayoutView",
      "align_content": null,
      "align_items": null,
      "align_self": null,
      "border": null,
      "bottom": null,
      "display": null,
      "flex": null,
      "flex_flow": null,
      "grid_area": null,
      "grid_auto_columns": null,
      "grid_auto_flow": null,
      "grid_auto_rows": null,
      "grid_column": null,
      "grid_gap": null,
      "grid_row": null,
      "grid_template_areas": null,
      "grid_template_columns": null,
      "grid_template_rows": null,
      "height": null,
      "justify_content": null,
      "justify_items": null,
      "left": null,
      "margin": null,
      "max_height": null,
      "max_width": null,
      "min_height": null,
      "min_width": null,
      "object_fit": null,
      "object_position": null,
      "order": null,
      "overflow": null,
      "overflow_x": null,
      "overflow_y": null,
      "padding": null,
      "right": null,
      "top": null,
      "visibility": null,
      "width": null
     }
    },
    "35618f276f9d4342b25759d6212e6ed8": {
     "model_module": "@jupyter-widgets/base",
     "model_name": "LayoutModel",
     "state": {
      "_model_module": "@jupyter-widgets/base",
      "_model_module_version": "1.2.0",
      "_model_name": "LayoutModel",
      "_view_count": null,
      "_view_module": "@jupyter-widgets/base",
      "_view_module_version": "1.2.0",
      "_view_name": "LayoutView",
      "align_content": null,
      "align_items": null,
      "align_self": null,
      "border": null,
      "bottom": null,
      "display": null,
      "flex": null,
      "flex_flow": null,
      "grid_area": null,
      "grid_auto_columns": null,
      "grid_auto_flow": null,
      "grid_auto_rows": null,
      "grid_column": null,
      "grid_gap": null,
      "grid_row": null,
      "grid_template_areas": null,
      "grid_template_columns": null,
      "grid_template_rows": null,
      "height": null,
      "justify_content": null,
      "justify_items": null,
      "left": null,
      "margin": null,
      "max_height": null,
      "max_width": null,
      "min_height": null,
      "min_width": null,
      "object_fit": null,
      "object_position": null,
      "order": null,
      "overflow": null,
      "overflow_x": null,
      "overflow_y": null,
      "padding": null,
      "right": null,
      "top": null,
      "visibility": null,
      "width": null
     }
    },
    "358a042032a547429e6910adb772e964": {
     "model_module": "@jupyter-widgets/controls",
     "model_name": "DescriptionStyleModel",
     "state": {
      "_model_module": "@jupyter-widgets/controls",
      "_model_module_version": "1.5.0",
      "_model_name": "DescriptionStyleModel",
      "_view_count": null,
      "_view_module": "@jupyter-widgets/base",
      "_view_module_version": "1.2.0",
      "_view_name": "StyleView",
      "description_width": ""
     }
    },
    "3be54296654d447788f5118ffdea8e58": {
     "model_module": "@jupyter-widgets/base",
     "model_name": "LayoutModel",
     "state": {
      "_model_module": "@jupyter-widgets/base",
      "_model_module_version": "1.2.0",
      "_model_name": "LayoutModel",
      "_view_count": null,
      "_view_module": "@jupyter-widgets/base",
      "_view_module_version": "1.2.0",
      "_view_name": "LayoutView",
      "align_content": null,
      "align_items": null,
      "align_self": null,
      "border": null,
      "bottom": null,
      "display": null,
      "flex": null,
      "flex_flow": null,
      "grid_area": null,
      "grid_auto_columns": null,
      "grid_auto_flow": null,
      "grid_auto_rows": null,
      "grid_column": null,
      "grid_gap": null,
      "grid_row": null,
      "grid_template_areas": null,
      "grid_template_columns": null,
      "grid_template_rows": null,
      "height": null,
      "justify_content": null,
      "justify_items": null,
      "left": null,
      "margin": null,
      "max_height": null,
      "max_width": null,
      "min_height": null,
      "min_width": null,
      "object_fit": null,
      "object_position": null,
      "order": null,
      "overflow": null,
      "overflow_x": null,
      "overflow_y": null,
      "padding": null,
      "right": null,
      "top": null,
      "visibility": null,
      "width": null
     }
    },
    "3ca86738627f4f46986bc0f98701dfd8": {
     "model_module": "@jupyter-widgets/controls",
     "model_name": "FloatProgressModel",
     "state": {
      "_dom_classes": [],
      "_model_module": "@jupyter-widgets/controls",
      "_model_module_version": "1.5.0",
      "_model_name": "FloatProgressModel",
      "_view_count": null,
      "_view_module": "@jupyter-widgets/controls",
      "_view_module_version": "1.5.0",
      "_view_name": "ProgressView",
      "bar_style": "success",
      "description": "Downloading: 100%",
      "description_tooltip": null,
      "layout": "IPY_MODEL_cc12cca06b794487b82b001a723fbb0e",
      "max": 29,
      "min": 0,
      "orientation": "horizontal",
      "style": "IPY_MODEL_d7f4050041b0409b9547103202ac75b7",
      "value": 29
     }
    },
    "504360c0f0014547a9242b5a0b8055ff": {
     "model_module": "@jupyter-widgets/base",
     "model_name": "LayoutModel",
     "state": {
      "_model_module": "@jupyter-widgets/base",
      "_model_module_version": "1.2.0",
      "_model_name": "LayoutModel",
      "_view_count": null,
      "_view_module": "@jupyter-widgets/base",
      "_view_module_version": "1.2.0",
      "_view_name": "LayoutView",
      "align_content": null,
      "align_items": null,
      "align_self": null,
      "border": null,
      "bottom": null,
      "display": null,
      "flex": null,
      "flex_flow": null,
      "grid_area": null,
      "grid_auto_columns": null,
      "grid_auto_flow": null,
      "grid_auto_rows": null,
      "grid_column": null,
      "grid_gap": null,
      "grid_row": null,
      "grid_template_areas": null,
      "grid_template_columns": null,
      "grid_template_rows": null,
      "height": null,
      "justify_content": null,
      "justify_items": null,
      "left": null,
      "margin": null,
      "max_height": null,
      "max_width": null,
      "min_height": null,
      "min_width": null,
      "object_fit": null,
      "object_position": null,
      "order": null,
      "overflow": null,
      "overflow_x": null,
      "overflow_y": null,
      "padding": null,
      "right": null,
      "top": null,
      "visibility": null,
      "width": null
     }
    },
    "51fe39b68657430a923f3d83c37443be": {
     "model_module": "@jupyter-widgets/controls",
     "model_name": "ProgressStyleModel",
     "state": {
      "_model_module": "@jupyter-widgets/controls",
      "_model_module_version": "1.5.0",
      "_model_name": "ProgressStyleModel",
      "_view_count": null,
      "_view_module": "@jupyter-widgets/base",
      "_view_module_version": "1.2.0",
      "_view_name": "StyleView",
      "bar_color": null,
      "description_width": "initial"
     }
    },
    "59bdc8a8119743a593c394300f1f69db": {
     "model_module": "@jupyter-widgets/base",
     "model_name": "LayoutModel",
     "state": {
      "_model_module": "@jupyter-widgets/base",
      "_model_module_version": "1.2.0",
      "_model_name": "LayoutModel",
      "_view_count": null,
      "_view_module": "@jupyter-widgets/base",
      "_view_module_version": "1.2.0",
      "_view_name": "LayoutView",
      "align_content": null,
      "align_items": null,
      "align_self": null,
      "border": null,
      "bottom": null,
      "display": null,
      "flex": null,
      "flex_flow": null,
      "grid_area": null,
      "grid_auto_columns": null,
      "grid_auto_flow": null,
      "grid_auto_rows": null,
      "grid_column": null,
      "grid_gap": null,
      "grid_row": null,
      "grid_template_areas": null,
      "grid_template_columns": null,
      "grid_template_rows": null,
      "height": null,
      "justify_content": null,
      "justify_items": null,
      "left": null,
      "margin": null,
      "max_height": null,
      "max_width": null,
      "min_height": null,
      "min_width": null,
      "object_fit": null,
      "object_position": null,
      "order": null,
      "overflow": null,
      "overflow_x": null,
      "overflow_y": null,
      "padding": null,
      "right": null,
      "top": null,
      "visibility": null,
      "width": null
     }
    },
    "5e781ba7ac0d43348d6804d6aaab8381": {
     "model_module": "@jupyter-widgets/base",
     "model_name": "LayoutModel",
     "state": {
      "_model_module": "@jupyter-widgets/base",
      "_model_module_version": "1.2.0",
      "_model_name": "LayoutModel",
      "_view_count": null,
      "_view_module": "@jupyter-widgets/base",
      "_view_module_version": "1.2.0",
      "_view_name": "LayoutView",
      "align_content": null,
      "align_items": null,
      "align_self": null,
      "border": null,
      "bottom": null,
      "display": null,
      "flex": null,
      "flex_flow": null,
      "grid_area": null,
      "grid_auto_columns": null,
      "grid_auto_flow": null,
      "grid_auto_rows": null,
      "grid_column": null,
      "grid_gap": null,
      "grid_row": null,
      "grid_template_areas": null,
      "grid_template_columns": null,
      "grid_template_rows": null,
      "height": null,
      "justify_content": null,
      "justify_items": null,
      "left": null,
      "margin": null,
      "max_height": null,
      "max_width": null,
      "min_height": null,
      "min_width": null,
      "object_fit": null,
      "object_position": null,
      "order": null,
      "overflow": null,
      "overflow_x": null,
      "overflow_y": null,
      "padding": null,
      "right": null,
      "top": null,
      "visibility": null,
      "width": null
     }
    },
    "62b25ea1d4554c53a434f4cf366c632c": {
     "model_module": "@jupyter-widgets/controls",
     "model_name": "DescriptionStyleModel",
     "state": {
      "_model_module": "@jupyter-widgets/controls",
      "_model_module_version": "1.5.0",
      "_model_name": "DescriptionStyleModel",
      "_view_count": null,
      "_view_module": "@jupyter-widgets/base",
      "_view_module_version": "1.2.0",
      "_view_name": "StyleView",
      "description_width": ""
     }
    },
    "67d2b14a7f184d74b69cc8aa0946eec5": {
     "model_module": "@jupyter-widgets/base",
     "model_name": "LayoutModel",
     "state": {
      "_model_module": "@jupyter-widgets/base",
      "_model_module_version": "1.2.0",
      "_model_name": "LayoutModel",
      "_view_count": null,
      "_view_module": "@jupyter-widgets/base",
      "_view_module_version": "1.2.0",
      "_view_name": "LayoutView",
      "align_content": null,
      "align_items": null,
      "align_self": null,
      "border": null,
      "bottom": null,
      "display": null,
      "flex": null,
      "flex_flow": null,
      "grid_area": null,
      "grid_auto_columns": null,
      "grid_auto_flow": null,
      "grid_auto_rows": null,
      "grid_column": null,
      "grid_gap": null,
      "grid_row": null,
      "grid_template_areas": null,
      "grid_template_columns": null,
      "grid_template_rows": null,
      "height": null,
      "justify_content": null,
      "justify_items": null,
      "left": null,
      "margin": null,
      "max_height": null,
      "max_width": null,
      "min_height": null,
      "min_width": null,
      "object_fit": null,
      "object_position": null,
      "order": null,
      "overflow": null,
      "overflow_x": null,
      "overflow_y": null,
      "padding": null,
      "right": null,
      "top": null,
      "visibility": null,
      "width": null
     }
    },
    "689e193e573143718525c32cef039600": {
     "model_module": "@jupyter-widgets/base",
     "model_name": "LayoutModel",
     "state": {
      "_model_module": "@jupyter-widgets/base",
      "_model_module_version": "1.2.0",
      "_model_name": "LayoutModel",
      "_view_count": null,
      "_view_module": "@jupyter-widgets/base",
      "_view_module_version": "1.2.0",
      "_view_name": "LayoutView",
      "align_content": null,
      "align_items": null,
      "align_self": null,
      "border": null,
      "bottom": null,
      "display": null,
      "flex": null,
      "flex_flow": null,
      "grid_area": null,
      "grid_auto_columns": null,
      "grid_auto_flow": null,
      "grid_auto_rows": null,
      "grid_column": null,
      "grid_gap": null,
      "grid_row": null,
      "grid_template_areas": null,
      "grid_template_columns": null,
      "grid_template_rows": null,
      "height": null,
      "justify_content": null,
      "justify_items": null,
      "left": null,
      "margin": null,
      "max_height": null,
      "max_width": null,
      "min_height": null,
      "min_width": null,
      "object_fit": null,
      "object_position": null,
      "order": null,
      "overflow": null,
      "overflow_x": null,
      "overflow_y": null,
      "padding": null,
      "right": null,
      "top": null,
      "visibility": null,
      "width": null
     }
    },
    "726dd6c0cf4c409580b45eb62285d93a": {
     "model_module": "@jupyter-widgets/base",
     "model_name": "LayoutModel",
     "state": {
      "_model_module": "@jupyter-widgets/base",
      "_model_module_version": "1.2.0",
      "_model_name": "LayoutModel",
      "_view_count": null,
      "_view_module": "@jupyter-widgets/base",
      "_view_module_version": "1.2.0",
      "_view_name": "LayoutView",
      "align_content": null,
      "align_items": null,
      "align_self": null,
      "border": null,
      "bottom": null,
      "display": null,
      "flex": null,
      "flex_flow": null,
      "grid_area": null,
      "grid_auto_columns": null,
      "grid_auto_flow": null,
      "grid_auto_rows": null,
      "grid_column": null,
      "grid_gap": null,
      "grid_row": null,
      "grid_template_areas": null,
      "grid_template_columns": null,
      "grid_template_rows": null,
      "height": null,
      "justify_content": null,
      "justify_items": null,
      "left": null,
      "margin": null,
      "max_height": null,
      "max_width": null,
      "min_height": null,
      "min_width": null,
      "object_fit": null,
      "object_position": null,
      "order": null,
      "overflow": null,
      "overflow_x": null,
      "overflow_y": null,
      "padding": null,
      "right": null,
      "top": null,
      "visibility": null,
      "width": null
     }
    },
    "7d1b3131c9004559a0f19743dc41cbd2": {
     "model_module": "@jupyter-widgets/controls",
     "model_name": "FloatProgressModel",
     "state": {
      "_dom_classes": [],
      "_model_module": "@jupyter-widgets/controls",
      "_model_module_version": "1.5.0",
      "_model_name": "FloatProgressModel",
      "_view_count": null,
      "_view_module": "@jupyter-widgets/controls",
      "_view_module_version": "1.5.0",
      "_view_name": "ProgressView",
      "bar_style": "success",
      "description": "Downloading: 100%",
      "description_tooltip": null,
      "layout": "IPY_MODEL_59bdc8a8119743a593c394300f1f69db",
      "max": 995526,
      "min": 0,
      "orientation": "horizontal",
      "style": "IPY_MODEL_a1f35bdd83b94808920cd67407ad854e",
      "value": 995526
     }
    },
    "82a0bd03787b43978f1a77f94b8605c8": {
     "model_module": "@jupyter-widgets/controls",
     "model_name": "FloatProgressModel",
     "state": {
      "_dom_classes": [],
      "_model_module": "@jupyter-widgets/controls",
      "_model_module_version": "1.5.0",
      "_model_name": "FloatProgressModel",
      "_view_count": null,
      "_view_module": "@jupyter-widgets/controls",
      "_view_module_version": "1.5.0",
      "_view_name": "ProgressView",
      "bar_style": "success",
      "description": "Downloading: 100%",
      "description_tooltip": null,
      "layout": "IPY_MODEL_504360c0f0014547a9242b5a0b8055ff",
      "max": 625,
      "min": 0,
      "orientation": "horizontal",
      "style": "IPY_MODEL_51fe39b68657430a923f3d83c37443be",
      "value": 625
     }
    },
    "83aa912ca2f9435889c9a949f7b4df39": {
     "model_module": "@jupyter-widgets/base",
     "model_name": "LayoutModel",
     "state": {
      "_model_module": "@jupyter-widgets/base",
      "_model_module_version": "1.2.0",
      "_model_name": "LayoutModel",
      "_view_count": null,
      "_view_module": "@jupyter-widgets/base",
      "_view_module_version": "1.2.0",
      "_view_name": "LayoutView",
      "align_content": null,
      "align_items": null,
      "align_self": null,
      "border": null,
      "bottom": null,
      "display": null,
      "flex": null,
      "flex_flow": null,
      "grid_area": null,
      "grid_auto_columns": null,
      "grid_auto_flow": null,
      "grid_auto_rows": null,
      "grid_column": null,
      "grid_gap": null,
      "grid_row": null,
      "grid_template_areas": null,
      "grid_template_columns": null,
      "grid_template_rows": null,
      "height": null,
      "justify_content": null,
      "justify_items": null,
      "left": null,
      "margin": null,
      "max_height": null,
      "max_width": null,
      "min_height": null,
      "min_width": null,
      "object_fit": null,
      "object_position": null,
      "order": null,
      "overflow": null,
      "overflow_x": null,
      "overflow_y": null,
      "padding": null,
      "right": null,
      "top": null,
      "visibility": null,
      "width": null
     }
    },
    "922bd30f72e042488d1a42d1493be04d": {
     "model_module": "@jupyter-widgets/controls",
     "model_name": "ProgressStyleModel",
     "state": {
      "_model_module": "@jupyter-widgets/controls",
      "_model_module_version": "1.5.0",
      "_model_name": "ProgressStyleModel",
      "_view_count": null,
      "_view_module": "@jupyter-widgets/base",
      "_view_module_version": "1.2.0",
      "_view_name": "StyleView",
      "bar_color": null,
      "description_width": "initial"
     }
    },
    "a1f35bdd83b94808920cd67407ad854e": {
     "model_module": "@jupyter-widgets/controls",
     "model_name": "ProgressStyleModel",
     "state": {
      "_model_module": "@jupyter-widgets/controls",
      "_model_module_version": "1.5.0",
      "_model_name": "ProgressStyleModel",
      "_view_count": null,
      "_view_module": "@jupyter-widgets/base",
      "_view_module_version": "1.2.0",
      "_view_name": "StyleView",
      "bar_color": null,
      "description_width": "initial"
     }
    },
    "b42bbb32bad34807b2cbdc89739e85d3": {
     "model_module": "@jupyter-widgets/base",
     "model_name": "LayoutModel",
     "state": {
      "_model_module": "@jupyter-widgets/base",
      "_model_module_version": "1.2.0",
      "_model_name": "LayoutModel",
      "_view_count": null,
      "_view_module": "@jupyter-widgets/base",
      "_view_module_version": "1.2.0",
      "_view_name": "LayoutView",
      "align_content": null,
      "align_items": null,
      "align_self": null,
      "border": null,
      "bottom": null,
      "display": null,
      "flex": null,
      "flex_flow": null,
      "grid_area": null,
      "grid_auto_columns": null,
      "grid_auto_flow": null,
      "grid_auto_rows": null,
      "grid_column": null,
      "grid_gap": null,
      "grid_row": null,
      "grid_template_areas": null,
      "grid_template_columns": null,
      "grid_template_rows": null,
      "height": null,
      "justify_content": null,
      "justify_items": null,
      "left": null,
      "margin": null,
      "max_height": null,
      "max_width": null,
      "min_height": null,
      "min_width": null,
      "object_fit": null,
      "object_position": null,
      "order": null,
      "overflow": null,
      "overflow_x": null,
      "overflow_y": null,
      "padding": null,
      "right": null,
      "top": null,
      "visibility": null,
      "width": null
     }
    },
    "bcd0507f67204ff4884873fec17c7e4a": {
     "model_module": "@jupyter-widgets/base",
     "model_name": "LayoutModel",
     "state": {
      "_model_module": "@jupyter-widgets/base",
      "_model_module_version": "1.2.0",
      "_model_name": "LayoutModel",
      "_view_count": null,
      "_view_module": "@jupyter-widgets/base",
      "_view_module_version": "1.2.0",
      "_view_name": "LayoutView",
      "align_content": null,
      "align_items": null,
      "align_self": null,
      "border": null,
      "bottom": null,
      "display": null,
      "flex": null,
      "flex_flow": null,
      "grid_area": null,
      "grid_auto_columns": null,
      "grid_auto_flow": null,
      "grid_auto_rows": null,
      "grid_column": null,
      "grid_gap": null,
      "grid_row": null,
      "grid_template_areas": null,
      "grid_template_columns": null,
      "grid_template_rows": null,
      "height": null,
      "justify_content": null,
      "justify_items": null,
      "left": null,
      "margin": null,
      "max_height": null,
      "max_width": null,
      "min_height": null,
      "min_width": null,
      "object_fit": null,
      "object_position": null,
      "order": null,
      "overflow": null,
      "overflow_x": null,
      "overflow_y": null,
      "padding": null,
      "right": null,
      "top": null,
      "visibility": null,
      "width": null
     }
    },
    "c4dd4d2df7b0495285e9f30ac65fa2b3": {
     "model_module": "@jupyter-widgets/controls",
     "model_name": "ProgressStyleModel",
     "state": {
      "_model_module": "@jupyter-widgets/controls",
      "_model_module_version": "1.5.0",
      "_model_name": "ProgressStyleModel",
      "_view_count": null,
      "_view_module": "@jupyter-widgets/base",
      "_view_module_version": "1.2.0",
      "_view_name": "StyleView",
      "bar_color": null,
      "description_width": "initial"
     }
    },
    "c5d8c399c80f46f5acaba6fe50e4dfb8": {
     "model_module": "@jupyter-widgets/controls",
     "model_name": "HBoxModel",
     "state": {
      "_dom_classes": [],
      "_model_module": "@jupyter-widgets/controls",
      "_model_module_version": "1.5.0",
      "_model_name": "HBoxModel",
      "_view_count": null,
      "_view_module": "@jupyter-widgets/controls",
      "_view_module_version": "1.5.0",
      "_view_name": "HBoxView",
      "box_style": "",
      "children": [
       "IPY_MODEL_0dc1ec66fc9b4717912b1966c7c857b3",
       "IPY_MODEL_0a1b2e90bb924bee906e5ded4f7f7315"
      ],
      "layout": "IPY_MODEL_35618f276f9d4342b25759d6212e6ed8"
     }
    },
    "cac405d6b77a4d7eb6788e5c9bb9e3c8": {
     "model_module": "@jupyter-widgets/controls",
     "model_name": "HTMLModel",
     "state": {
      "_dom_classes": [],
      "_model_module": "@jupyter-widgets/controls",
      "_model_module_version": "1.5.0",
      "_model_name": "HTMLModel",
      "_view_count": null,
      "_view_module": "@jupyter-widgets/controls",
      "_view_module_version": "1.5.0",
      "_view_name": "HTMLView",
      "description": "",
      "description_tooltip": null,
      "layout": "IPY_MODEL_f5bc80daea344169ad5966dac3516bb9",
      "placeholder": "​",
      "style": "IPY_MODEL_358a042032a547429e6910adb772e964",
      "value": " 996k/996k [00:03&lt;00:00, 316kB/s]"
     }
    },
    "cb9927f61f394d769c23dd930c50f42b": {
     "model_module": "@jupyter-widgets/controls",
     "model_name": "FloatProgressModel",
     "state": {
      "_dom_classes": [],
      "_model_module": "@jupyter-widgets/controls",
      "_model_module_version": "1.5.0",
      "_model_name": "FloatProgressModel",
      "_view_count": null,
      "_view_module": "@jupyter-widgets/controls",
      "_view_module_version": "1.5.0",
      "_view_name": "ProgressView",
      "bar_style": "success",
      "description": "Downloading: 100%",
      "description_tooltip": null,
      "layout": "IPY_MODEL_83aa912ca2f9435889c9a949f7b4df39",
      "max": 1961828,
      "min": 0,
      "orientation": "horizontal",
      "style": "IPY_MODEL_c4dd4d2df7b0495285e9f30ac65fa2b3",
      "value": 1961828
     }
    },
    "cc12cca06b794487b82b001a723fbb0e": {
     "model_module": "@jupyter-widgets/base",
     "model_name": "LayoutModel",
     "state": {
      "_model_module": "@jupyter-widgets/base",
      "_model_module_version": "1.2.0",
      "_model_name": "LayoutModel",
      "_view_count": null,
      "_view_module": "@jupyter-widgets/base",
      "_view_module_version": "1.2.0",
      "_view_name": "LayoutView",
      "align_content": null,
      "align_items": null,
      "align_self": null,
      "border": null,
      "bottom": null,
      "display": null,
      "flex": null,
      "flex_flow": null,
      "grid_area": null,
      "grid_auto_columns": null,
      "grid_auto_flow": null,
      "grid_auto_rows": null,
      "grid_column": null,
      "grid_gap": null,
      "grid_row": null,
      "grid_template_areas": null,
      "grid_template_columns": null,
      "grid_template_rows": null,
      "height": null,
      "justify_content": null,
      "justify_items": null,
      "left": null,
      "margin": null,
      "max_height": null,
      "max_width": null,
      "min_height": null,
      "min_width": null,
      "object_fit": null,
      "object_position": null,
      "order": null,
      "overflow": null,
      "overflow_x": null,
      "overflow_y": null,
      "padding": null,
      "right": null,
      "top": null,
      "visibility": null,
      "width": null
     }
    },
    "d3601352bcce48848ce7268463a6dece": {
     "model_module": "@jupyter-widgets/controls",
     "model_name": "HBoxModel",
     "state": {
      "_dom_classes": [],
      "_model_module": "@jupyter-widgets/controls",
      "_model_module_version": "1.5.0",
      "_model_name": "HBoxModel",
      "_view_count": null,
      "_view_module": "@jupyter-widgets/controls",
      "_view_module_version": "1.5.0",
      "_view_name": "HBoxView",
      "box_style": "",
      "children": [
       "IPY_MODEL_7d1b3131c9004559a0f19743dc41cbd2",
       "IPY_MODEL_cac405d6b77a4d7eb6788e5c9bb9e3c8"
      ],
      "layout": "IPY_MODEL_3be54296654d447788f5118ffdea8e58"
     }
    },
    "d7f4050041b0409b9547103202ac75b7": {
     "model_module": "@jupyter-widgets/controls",
     "model_name": "ProgressStyleModel",
     "state": {
      "_model_module": "@jupyter-widgets/controls",
      "_model_module_version": "1.5.0",
      "_model_name": "ProgressStyleModel",
      "_view_count": null,
      "_view_module": "@jupyter-widgets/base",
      "_view_module_version": "1.2.0",
      "_view_name": "StyleView",
      "bar_color": null,
      "description_width": "initial"
     }
    },
    "e0d2798a87cf4228b239e9c6fda6204c": {
     "model_module": "@jupyter-widgets/controls",
     "model_name": "DescriptionStyleModel",
     "state": {
      "_model_module": "@jupyter-widgets/controls",
      "_model_module_version": "1.5.0",
      "_model_name": "DescriptionStyleModel",
      "_view_count": null,
      "_view_module": "@jupyter-widgets/base",
      "_view_module_version": "1.2.0",
      "_view_name": "StyleView",
      "description_width": ""
     }
    },
    "e9d9db27bea446049815fe78c4145d6c": {
     "model_module": "@jupyter-widgets/controls",
     "model_name": "HTMLModel",
     "state": {
      "_dom_classes": [],
      "_model_module": "@jupyter-widgets/controls",
      "_model_module_version": "1.5.0",
      "_model_name": "HTMLModel",
      "_view_count": null,
      "_view_module": "@jupyter-widgets/controls",
      "_view_module_version": "1.5.0",
      "_view_name": "HTMLView",
      "description": "",
      "description_tooltip": null,
      "layout": "IPY_MODEL_689e193e573143718525c32cef039600",
      "placeholder": "​",
      "style": "IPY_MODEL_00ec52d54f964cb8b81b358e38e27333",
      "value": " 1.96M/1.96M [00:00&lt;00:00, 5.89MB/s]"
     }
    },
    "f2ae2c48d1134eb4af1443c2598f5528": {
     "model_module": "@jupyter-widgets/controls",
     "model_name": "HTMLModel",
     "state": {
      "_dom_classes": [],
      "_model_module": "@jupyter-widgets/controls",
      "_model_module_version": "1.5.0",
      "_model_name": "HTMLModel",
      "_view_count": null,
      "_view_module": "@jupyter-widgets/controls",
      "_view_module_version": "1.5.0",
      "_view_name": "HTMLView",
      "description": "",
      "description_tooltip": null,
      "layout": "IPY_MODEL_726dd6c0cf4c409580b45eb62285d93a",
      "placeholder": "​",
      "style": "IPY_MODEL_1a5a6ae7e4ec4054a7b54cd1d74e463a",
      "value": " 625/625 [00:22&lt;00:00, 28.2B/s]"
     }
    },
    "f5bc80daea344169ad5966dac3516bb9": {
     "model_module": "@jupyter-widgets/base",
     "model_name": "LayoutModel",
     "state": {
      "_model_module": "@jupyter-widgets/base",
      "_model_module_version": "1.2.0",
      "_model_name": "LayoutModel",
      "_view_count": null,
      "_view_module": "@jupyter-widgets/base",
      "_view_module_version": "1.2.0",
      "_view_name": "LayoutView",
      "align_content": null,
      "align_items": null,
      "align_self": null,
      "border": null,
      "bottom": null,
      "display": null,
      "flex": null,
      "flex_flow": null,
      "grid_area": null,
      "grid_auto_columns": null,
      "grid_auto_flow": null,
      "grid_auto_rows": null,
      "grid_column": null,
      "grid_gap": null,
      "grid_row": null,
      "grid_template_areas": null,
      "grid_template_columns": null,
      "grid_template_rows": null,
      "height": null,
      "justify_content": null,
      "justify_items": null,
      "left": null,
      "margin": null,
      "max_height": null,
      "max_width": null,
      "min_height": null,
      "min_width": null,
      "object_fit": null,
      "object_position": null,
      "order": null,
      "overflow": null,
      "overflow_x": null,
      "overflow_y": null,
      "padding": null,
      "right": null,
      "top": null,
      "visibility": null,
      "width": null
     }
    },
    "f627f071668f441a8e6cec3656fed694": {
     "model_module": "@jupyter-widgets/controls",
     "model_name": "HBoxModel",
     "state": {
      "_dom_classes": [],
      "_model_module": "@jupyter-widgets/controls",
      "_model_module_version": "1.5.0",
      "_model_name": "HBoxModel",
      "_view_count": null,
      "_view_module": "@jupyter-widgets/controls",
      "_view_module_version": "1.5.0",
      "_view_name": "HBoxView",
      "box_style": "",
      "children": [
       "IPY_MODEL_82a0bd03787b43978f1a77f94b8605c8",
       "IPY_MODEL_f2ae2c48d1134eb4af1443c2598f5528"
      ],
      "layout": "IPY_MODEL_67d2b14a7f184d74b69cc8aa0946eec5"
     }
    },
    "fa08e98a1c7640baa5c1d9e94b447cc1": {
     "model_module": "@jupyter-widgets/controls",
     "model_name": "ProgressStyleModel",
     "state": {
      "_model_module": "@jupyter-widgets/controls",
      "_model_module_version": "1.5.0",
      "_model_name": "ProgressStyleModel",
      "_view_count": null,
      "_view_module": "@jupyter-widgets/base",
      "_view_module_version": "1.2.0",
      "_view_name": "StyleView",
      "bar_color": null,
      "description_width": "initial"
     }
    },
    "fa5015e058f24057984e73c3618d1b67": {
     "model_module": "@jupyter-widgets/controls",
     "model_name": "HTMLModel",
     "state": {
      "_dom_classes": [],
      "_model_module": "@jupyter-widgets/controls",
      "_model_module_version": "1.5.0",
      "_model_name": "HTMLModel",
      "_view_count": null,
      "_view_module": "@jupyter-widgets/controls",
      "_view_module_version": "1.5.0",
      "_view_name": "HTMLView",
      "description": "",
      "description_tooltip": null,
      "layout": "IPY_MODEL_33324aa25d464793b8dd4c27ae4a7a23",
      "placeholder": "​",
      "style": "IPY_MODEL_62b25ea1d4554c53a434f4cf366c632c",
      "value": " 625/625 [00:00&lt;00:00, 8.09kB/s]"
     }
    },
    "ff3d831e252c4f629396003985775bf7": {
     "model_module": "@jupyter-widgets/base",
     "model_name": "LayoutModel",
     "state": {
      "_model_module": "@jupyter-widgets/base",
      "_model_module_version": "1.2.0",
      "_model_name": "LayoutModel",
      "_view_count": null,
      "_view_module": "@jupyter-widgets/base",
      "_view_module_version": "1.2.0",
      "_view_name": "LayoutView",
      "align_content": null,
      "align_items": null,
      "align_self": null,
      "border": null,
      "bottom": null,
      "display": null,
      "flex": null,
      "flex_flow": null,
      "grid_area": null,
      "grid_auto_columns": null,
      "grid_auto_flow": null,
      "grid_auto_rows": null,
      "grid_column": null,
      "grid_gap": null,
      "grid_row": null,
      "grid_template_areas": null,
      "grid_template_columns": null,
      "grid_template_rows": null,
      "height": null,
      "justify_content": null,
      "justify_items": null,
      "left": null,
      "margin": null,
      "max_height": null,
      "max_width": null,
      "min_height": null,
      "min_width": null,
      "object_fit": null,
      "object_position": null,
      "order": null,
      "overflow": null,
      "overflow_x": null,
      "overflow_y": null,
      "padding": null,
      "right": null,
      "top": null,
      "visibility": null,
      "width": null
     }
    }
   }
  }
 },
 "nbformat": 4,
 "nbformat_minor": 1
}
